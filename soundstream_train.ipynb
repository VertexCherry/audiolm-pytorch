{
 "cells": [
  {
   "cell_type": "code",
   "execution_count": 1,
   "metadata": {
    "colab": {
     "base_uri": "https://localhost:8080/"
    },
    "execution": {
     "iopub.execute_input": "2023-07-29T22:49:10.097087Z",
     "iopub.status.busy": "2023-07-29T22:49:10.096334Z",
     "iopub.status.idle": "2023-07-29T22:49:12.582369Z",
     "shell.execute_reply": "2023-07-29T22:49:12.581770Z",
     "shell.execute_reply.started": "2023-07-29T22:49:10.097064Z"
    },
    "id": "n337KoD2om3L",
    "outputId": "97ada0c6-f21c-483e-d63d-08abddd49004"
   },
   "outputs": [
    {
     "name": "stdout",
     "output_type": "stream",
     "text": [
      "Sat Jul 29 22:49:10 2023       \n",
      "+-----------------------------------------------------------------------------+\n",
      "| NVIDIA-SMI 525.116.04   Driver Version: 525.116.04   CUDA Version: 12.0     |\n",
      "|-------------------------------+----------------------+----------------------+\n",
      "| GPU  Name        Persistence-M| Bus-Id        Disp.A | Volatile Uncorr. ECC |\n",
      "| Fan  Temp  Perf  Pwr:Usage/Cap|         Memory-Usage | GPU-Util  Compute M. |\n",
      "|                               |                      |               MIG M. |\n",
      "|===============================+======================+======================|\n",
      "|   0  NVIDIA RTX A5000    Off  | 00000000:00:05.0 Off |                  Off |\n",
      "| 30%   31C    P8    15W / 230W |      1MiB / 24564MiB |      0%      Default |\n",
      "|                               |                      |                  N/A |\n",
      "+-------------------------------+----------------------+----------------------+\n",
      "                                                                               \n",
      "+-----------------------------------------------------------------------------+\n",
      "| Processes:                                                                  |\n",
      "|  GPU   GI   CI        PID   Type   Process name                  GPU Memory |\n",
      "|        ID   ID                                                   Usage      |\n",
      "|=============================================================================|\n",
      "|  No running processes found                                                 |\n",
      "+-----------------------------------------------------------------------------+\n"
     ]
    },
    {
     "name": "stderr",
     "output_type": "stream",
     "text": [
      "2023-07-29 22:49:12 | INFO | fairseq.tasks.text_to_speech | Please install tensorboardX: pip install tensorboardX\n"
     ]
    }
   ],
   "source": [
    "!nvidia-smi\n",
    "\n",
    "# imports\n",
    "import math\n",
    "import wave\n",
    "import struct\n",
    "import os\n",
    "import urllib.request\n",
    "import tarfile\n",
    "import random\n",
    "from audiolm_pytorch import SoundStream, SoundStreamTrainer, HubertWithKmeans, SemanticTransformer, SemanticTransformerTrainer, HubertWithKmeans, CoarseTransformer, CoarseTransformerWrapper, CoarseTransformerTrainer, FineTransformer, FineTransformerWrapper, FineTransformerTrainer, AudioLM\n",
    "from torch import nn\n",
    "import torch\n",
    "import torchaudio\n",
    "from random import shuffle\n",
    "from fs.osfs import OSFS\n",
    "from fs.mountfs import MountFS\n",
    "from fs import open_fs\n",
    "\n",
    "sample_rate = 16000\n",
    "\n",
    "# define all dataset paths, checkpoints, etc\n",
    "dataset_folder = \"placeholder_dataset\"\n",
    "soundstream_ckpt = \"results/soundstream.8.pt\" # this can change depending on number of steps\n",
    "hubert_ckpt = 'hubert/hubert_base_ls960.pt'\n",
    "hubert_quantizer = f'hubert/hubert_base_ls960_L9_km500.bin' # listed in row \"HuBERT Base (~95M params)\", column Quantizer"
   ]
  },
  {
   "cell_type": "code",
   "execution_count": 2,
   "metadata": {
    "execution": {
     "iopub.execute_input": "2023-07-29T22:49:12.584473Z",
     "iopub.status.busy": "2023-07-29T22:49:12.583653Z",
     "iopub.status.idle": "2023-07-29T22:49:12.792203Z",
     "shell.execute_reply": "2023-07-29T22:49:12.791517Z",
     "shell.execute_reply.started": "2023-07-29T22:49:12.584449Z"
    }
   },
   "outputs": [],
   "source": [
    "import math\n",
    "from IPython.display import Audio\n",
    "import matplotlib.pyplot as plt\n",
    "\n",
    "def plot_waveform(waveform, sample_rate, title=\"Waveform\", xlim=None):\n",
    "    waveform = waveform.numpy()\n",
    "\n",
    "    num_channels, num_frames = waveform.shape\n",
    "    time_axis = torch.arange(0, num_frames) / sample_rate\n",
    "\n",
    "    figure, axes = plt.subplots(num_channels, 1)\n",
    "    if num_channels == 1:\n",
    "        axes = [axes]\n",
    "    for c in range(num_channels):\n",
    "        axes[c].plot(time_axis, waveform[c], linewidth=1)\n",
    "        axes[c].grid(True)\n",
    "        if num_channels > 1:\n",
    "            axes[c].set_ylabel(f\"Channel {c+1}\")\n",
    "        if xlim:\n",
    "            axes[c].set_xlim(xlim)\n",
    "    figure.suptitle(title)\n",
    "    plt.show(block=False)\n",
    "    \n",
    "def plot_specgram(waveform, sample_rate, title=\"Spectrogram\", xlim=None):\n",
    "    waveform = waveform.numpy()\n",
    "\n",
    "    num_channels, _ = waveform.shape\n",
    "\n",
    "    figure, axes = plt.subplots(num_channels, 1)\n",
    "    if num_channels == 1:\n",
    "        axes = [axes]\n",
    "    for c in range(num_channels):\n",
    "        axes[c].specgram(waveform[c], Fs=sample_rate)\n",
    "        if num_channels > 1:\n",
    "            axes[c].set_ylabel(f\"Channel {c+1}\")\n",
    "        if xlim:\n",
    "            axes[c].set_xlim(xlim)\n",
    "    figure.suptitle(title)\n",
    "    plt.show(block=False)"
   ]
  },
  {
   "cell_type": "code",
   "execution_count": 3,
   "metadata": {
    "execution": {
     "iopub.execute_input": "2023-07-29T22:49:12.793646Z",
     "iopub.status.busy": "2023-07-29T22:49:12.793072Z",
     "iopub.status.idle": "2023-07-29T22:49:52.955981Z",
     "shell.execute_reply": "2023-07-29T22:49:52.955233Z",
     "shell.execute_reply.started": "2023-07-29T22:49:12.793626Z"
    }
   },
   "outputs": [
    {
     "name": "stdout",
     "output_type": "stream",
     "text": [
      "['/Psychostream-02/e0d31d09f76c43529b772c8ce6b80a02.train.6.mp3', '/Psychostream-03/83db3b5095059d78d798d82491b45d03.train.4.mp3', '/Jamendo-00/bfc4a787b6601b1f300d1357642d1200.train.6.mp3', '/Jamendo-02/fff6addacb70493044227f2d0bad2702.train.7.mp3', '/Psychostream-00/8d7816bb4379e5583ca3fa8012ce1b00.train.4.mp3', '/Jamendo-00/8a5a0bf285df6a6d2991580b8b827c00.train.4.mp3', '/Jamendo-03/37f0f7c8a59df5e1a177d4f944252403.train.10.mp3', '/Psychostream-03/061bff76a9335d453676abbc2b16a203.train.4.mp3', '/Jamendo-03/347de7fa20c4e5882ebb2e9df0f08403.train.11.mp3', '/dns4-read/chetvero_nischih_s000806.mp3', '/Psychostream-00/24d453f51dbf6374ebe4ba0ce8490900.train.6.mp3', '/Psychostream-02/92f71d5ad0abf2664af3add26f410302.train.3.mp3', '/Psychostream-03/c1e5439009422152ec89bd70b810d303.train.6.mp3', '/Psychostream-00/6e659208e04142e224a321caf6424700.train.12.mp3', '/Psychostream-03/fa84620c49b5d423270f10c9e8bb1703.train.0.mp3', '/Psychostream-02/2f57ca5f405f5d486bb0ba8061f5f702.train.6.mp3', '/Psychostream-02/d433c8638db21478c9a79fb35cca5102.train.5.mp3', '/Psychostream-01/c8eab3163c6fd8860ca5ca848ff86301.train.11.mp3', '/Psychostream-03/92d3fa41e7215b221aae170e90c3c103.train.2.mp3', '/Psychostream-03/f9976dc029ffca8a1b5d8915ee21b803.train.6.mp3', '/Psychostream-01/0afd4b3ab2ca0fe744cc89d0cec62d01.train.8.mp3', '/Psychostream-00/2db2352c5fbbc6138e9e0e3284eb0400.train.0.mp3', '/Psychostream-00/04cc05a99b175e66321a77a6fda73200.train.10.mp3', '/Psychostream-00/497ea3a99cd93a4c0a0a1a7d76822000.train.3.mp3', '/Jamendo-03/44a4fecd5c2d0b13a40945af050c2d03.train.6.mp3', '/Psychostream-00/c97fe96727e8501e0ed5afcad5337800.train.0.mp3', '/Psychostream-02/6048410d0fbc9db769e00fc489a43702.train.2.mp3', '/Jamendo-03/c0d80ec781bf2778c98703ced59a5303.train.12.mp3', '/Psychostream-03/853df597fa0af6e44c9c42f811b26d03.train.7.mp3', '/Psychostream-02/cf59d84ae318da412cc88901700a7002.train.9.mp3', '/Psychostream-01/854f87b78f335733162e96a1e80dde01.train.14.mp3', '/Jamendo-00/23e0f600bda90f780c6d7e3f1a69e600.train.11.mp3', '/Jamendo-03/7ca313490ba6f7c290b19be3894a1503.train.1.mp3', '/Psychostream-03/188076c56fc77e8b464ec7245c9f5403.train.5.mp3', '/Jamendo-02/1cabbc3ea5f87df815e411a0b520e202.train.0.mp3', '/Jamendo-02/58d255646f7e4cbd2a3c6c7de9f0a702.train.5.mp3', '/Jamendo-00/d404a1f341710fbd59ff112da903a500.train.4.mp3', '/Psychostream-02/039619c2f412ed98dd7e63376b03b702.train.1.mp3', '/Jamendo-03/a55da7e2a1b5ca60496377785a9a7e03.train.3.mp3', '/Psychostream-03/2ef55793b99facd83f999dd38ad35703.train.1.mp3', '/Jamendo-03/665fa11747bfa5ef941ee9abedde2903.train.11.mp3', '/Psychostream-01/94dc787a15d23874f247a9de6f525801.train.2.mp3', '/Psychostream-00/d6999fdd6eb7728345675f9619c56000.train.6.mp3', '/Psychostream-03/e2a179fb155d98e1783deb9b110a4503.train.6.mp3', '/Psychostream-00/e3507b27674aa96aead8096edc65ae00.train.8.mp3', '/dns4-read/chetvero_nischih_s000968.mp3', '/Psychostream-03/853df597fa0af6e44c9c42f811b26d03.train.9.mp3', '/Psychostream-03/5601ce46f14f38ec3ebf205e79568903.train.4.mp3', '/Jamendo-01/c75c8c6dc5a7b974c6b418e5da3ede01.train.6.mp3', '/Psychostream-02/72b85b972189f61a42d75908d58e7b02.train.1.mp3']\n"
     ]
    }
   ],
   "source": [
    "# Setup filesystem\n",
    "dataset_fs = MountFS()\n",
    "\n",
    "#dataset_fs.mount('dns4-read', open_fs('s3://music-clip-dataset/dns/clean-fullband/read_speech/'))\n",
    "dataset_fs.mount('dns4-read', open_fs('s3://music-clip-dataset/dns/clean-fullband/russian/M-AILABS_Speech_Dataset/ru_RU_47hrs_48k/female/hajdurova/chetvero_nischih/wavs/'))\n",
    "[dataset_fs.mount(f'Jamendo-{_:02x}', open_fs(f's3://music-clip-dataset/clips/train/{_:02x}/')) for _ in range(4)]\n",
    "[dataset_fs.mount(f'Psychostream-{_:02x}', open_fs(f's3://music-clip-dataset/psychostream/train/{_:02x}/')) for _ in range(4)]\n",
    "#dataset_fs.add_fs('dns4-read', open_fs('s3://music-clip-dataset/dns/clean-fullband/read_speech/'))\n",
    "\n",
    "# Get all music files and shuffle them\n",
    "music_files = []\n",
    "for path in dataset_fs.walk.files(filter=['*.mp3']):\n",
    "    music_files.append(path)\n",
    "    #print(path)\n",
    "random.shuffle(music_files)\n",
    "print(music_files[:50])"
   ]
  },
  {
   "cell_type": "code",
   "execution_count": 4,
   "metadata": {
    "execution": {
     "iopub.execute_input": "2023-07-29T22:49:52.957595Z",
     "iopub.status.busy": "2023-07-29T22:49:52.957380Z",
     "iopub.status.idle": "2023-07-29T22:49:52.971373Z",
     "shell.execute_reply": "2023-07-29T22:49:52.970933Z",
     "shell.execute_reply.started": "2023-07-29T22:49:52.957561Z"
    },
    "id": "jwYCbFpHvmRI"
   },
   "outputs": [],
   "source": [
    "from email.mime import audio\n",
    "from io import BytesIO\n",
    "import os\n",
    "import random\n",
    "import itertools\n",
    "from einops import rearrange\n",
    "import fs.info\n",
    "from torchaudio.functional import resample\n",
    "from torch import Tensor\n",
    "import torch.nn.functional as F\n",
    "from audiolm_pytorch.soundstream import cast_tuple\n",
    "from audiolm_pytorch.utils import curtail_to_multiple\n",
    "\n",
    "class SeabassIterableDataset(torch.utils.data.IterableDataset):\n",
    "    def __init__(self, start, end, files: list[str], fs: MountFS, effects, clip_len:float = 2.0, tick_char='.', sample_rate=16000):\n",
    "        super(SeabassIterableDataset).__init__()\n",
    "        self.start = start\n",
    "        self.end = end\n",
    "        self.effects = effects\n",
    "        self.files = files\n",
    "        self.fs = fs\n",
    "        self.clip_len = clip_len\n",
    "        self.tick_char = tick_char\n",
    "        self.sample_rate = sample_rate\n",
    "\n",
    "    def getSample(self, index):\n",
    "        global sample_rate\n",
    "        \n",
    "        filename = self.files[index]\n",
    "        #data = BytesIO(self.fs.readbytes(filename))\n",
    "        with self.fs.open(filename, 'rb') as f:\n",
    "            reader = torchaudio.io.StreamReader(src = f)\n",
    "            reader.add_basic_audio_stream(\n",
    "                frames_per_chunk=self.sample_rate//10,\n",
    "                stream_index=0,\n",
    "                sample_rate=self.sample_rate,\n",
    "            )\n",
    "\n",
    "            audio_tensor = None\n",
    "            for i, waveform in enumerate(reader.stream()):\n",
    "                if audio_tensor is None:\n",
    "                    audio_tensor = waveform[0]\n",
    "                else:\n",
    "                    audio_tensor = torch.cat((audio_tensor, waveform[0]), 0)\n",
    "                \n",
    "                streamed_len = (audio_tensor.shape[0] / self.sample_rate) \n",
    "                if streamed_len >= self.clip_len:\n",
    "                    break # we have enough data\n",
    "               \n",
    "            audio_tensor = audio_tensor.reshape(1, -1) \n",
    "            if audio_tensor.shape[0] > 1:\n",
    "                # the audio has more than 1 channel, convert to mono\n",
    "                audio_tensor = torch.mean(audio_tensor, dim=0).unsqueeze(0)\n",
    "\n",
    "            #num_outputs = 1\n",
    "            #audio_tensor = cast_tuple(audio_tensor, num_outputs)\n",
    "            #data_tuple = tuple((resample(d, sample_hz, target_sample_hz) if exists(target_sample_hz) else d) for d, target_sample_hz in zip(data, self.target_sample_hz))\n",
    "\n",
    "            output = []\n",
    "            audio_length = audio_tensor.size(1)\n",
    "\n",
    "            ## pad or curtail\n",
    "            #max_length = 99999999999999\n",
    "            #if audio_length > max_length:\n",
    "            #    max_start = audio_length - max_length\n",
    "            #    start = torch.randint(0, max_start, (1, ))\n",
    "            #    audio_tensor = audio_tensor[:, start:start + max_length]\n",
    "            #else:\n",
    "            #    audio_tensor = F.pad(audio_tensor, (0, max_length - audio_length), 'constant')\n",
    "\n",
    "            audio_tensor = rearrange(audio_tensor, '1 ... -> ...')\n",
    "            output = audio_tensor.float()\n",
    "\n",
    "            print(self.tick_char, end='', flush=True)\n",
    "            return output\n",
    "\n",
    "    \n",
    "    def __iter__(self):\n",
    "        worker_info = torch.utils.data.get_worker_info()\n",
    "        if worker_info is None:  # single-process data loading, return the full iterator\n",
    "            iter_start = self.start\n",
    "            iter_end = self.end\n",
    "        else:  # in a worker process\n",
    "            # split workload\n",
    "            per_worker = int(math.ceil((self.end - self.start) / float(worker_info.num_workers)))\n",
    "            worker_id = worker_info.id\n",
    "            iter_start = self.start + worker_id * per_worker\n",
    "            iter_end = min(iter_start + per_worker, self.end)\n",
    "\n",
    "        for i in range(iter_start, iter_end):\n",
    "            sample = self.getSample(i)\n",
    "            yield sample\n",
    "\n",
    "# Setup dataloader\n",
    "effects = [\n",
    "    [\"norm\", \"1\"],\n",
    "]\n",
    "\n",
    "needed_clip_len = float(320 * 40)/sample_rate\n",
    "\n",
    "train_subset = music_files[:-1000]\n",
    "val_subset = music_files[-1000:]\n",
    "\n",
    "dst = SeabassIterableDataset(start=0, end=len(train_subset), files=train_subset, \n",
    "                            fs=dataset_fs, effects=effects, clip_len=needed_clip_len)\n",
    "dsv = SeabassIterableDataset(start=0, end=len(val_subset), files=val_subset, \n",
    "                            fs=dataset_fs, effects=effects, clip_len=2.0, tick_char='*')\n"
   ]
  },
  {
   "cell_type": "code",
   "execution_count": 5,
   "metadata": {
    "execution": {
     "iopub.execute_input": "2023-07-29T22:49:52.973067Z",
     "iopub.status.busy": "2023-07-29T22:49:52.972517Z",
     "iopub.status.idle": "2023-07-29T22:49:52.975350Z",
     "shell.execute_reply": "2023-07-29T22:49:52.974958Z",
     "shell.execute_reply.started": "2023-07-29T22:49:52.973047Z"
    }
   },
   "outputs": [],
   "source": [
    "# Test the sampler\n",
    "#dl_train.sampler\n",
    "#sampler = ds_train.__iter__()\n",
    "#sample = sampler.__next__()\n",
    "#print(sample)\n",
    "#print(waveform1.shape, sr1)\n",
    "#plot_waveform(waveform1, sr1, title=\"Train\", xlim=(-0.1, 3.2))\n",
    "#plot_specgram(waveform1, sr1, title=\"Train\", xlim=(0, 3.04))\n",
    "#Audio(waveform1, rate=sr1)\n",
    "#\n",
    "#_, waveform2, sr2 = ds_val.__iter__()\n",
    "#print(waveform2.shape, sr2)\n",
    "#plot_waveform(waveform2, sr2, title=\"Val\", xlim=(-0.1, 3.2))\n",
    "#plot_specgram(waveform2, sr2, title=\"Val\", xlim=(0, 3.04))\n",
    "#Audio(waveform2, rate=sr2)\n"
   ]
  },
  {
   "cell_type": "markdown",
   "metadata": {
    "id": "T7GiyBcBWiZV"
   },
   "source": [
    "### SoundStream"
   ]
  },
  {
   "cell_type": "code",
   "execution_count": null,
   "metadata": {
    "colab": {
     "base_uri": "https://localhost:8080/"
    },
    "execution": {
     "iopub.execute_input": "2023-07-29T22:49:52.976340Z",
     "iopub.status.busy": "2023-07-29T22:49:52.975905Z"
    },
    "id": "nGU0OZiOwPEO",
    "outputId": "21dd959c-6458-4477-8403-cf810166f38d"
   },
   "outputs": [
    {
     "name": "stdout",
     "output_type": "stream",
     "text": [
      "............................................................................................................................................................................................................0: soundstream total loss: 59.463, soundstream recon loss: 0.044 | discr (scale 1) loss: 2.000 | discr (scale 0.5) loss: 2.000 | discr (scale 0.25) loss: 2.000\n",
      "************0: saving to results\n",
      "0: saving model to results\n",
      "................................................................................................................................................................................................1: soundstream total loss: 62.514, soundstream recon loss: 0.045 | discr (scale 1) loss: 1.997 | discr (scale 0.5) loss: 1.997 | discr (scale 0.25) loss: 1.998\n",
      "................................................................................................................................................................................................2: soundstream total loss: 59.665, soundstream recon loss: 0.039 | discr (scale 1) loss: 1.994 | discr (scale 0.5) loss: 1.994 | discr (scale 0.25) loss: 1.996\n",
      "................................................................................................................................................................................................3: soundstream total loss: 60.935, soundstream recon loss: 0.040 | discr (scale 1) loss: 1.990 | discr (scale 0.5) loss: 1.991 | discr (scale 0.25) loss: 1.994\n",
      "................................................................................................................................................................................................4: soundstream total loss: 59.546, soundstream recon loss: 0.040 | discr (scale 1) loss: 1.984 | discr (scale 0.5) loss: 1.986 | discr (scale 0.25) loss: 1.990\n",
      "................................................................................................................................................................................................5: soundstream total loss: 69.059, soundstream recon loss: 0.047 | discr (scale 1) loss: 1.978 | discr (scale 0.5) loss: 1.980 | discr (scale 0.25) loss: 1.987\n",
      "................................................................................................................................................................................................6: soundstream total loss: 58.397, soundstream recon loss: 0.039 | discr (scale 1) loss: 1.963 | discr (scale 0.5) loss: 1.965 | discr (scale 0.25) loss: 1.975\n",
      "................................................................................................................................................................................................7: soundstream total loss: 65.089, soundstream recon loss: 0.043 | discr (scale 1) loss: 1.950 | discr (scale 0.5) loss: 1.951 | discr (scale 0.25) loss: 1.967\n",
      "................................................................................................................................................................................................8: soundstream total loss: 59.514, soundstream recon loss: 0.030 | discr (scale 1) loss: 1.935 | discr (scale 0.5) loss: 1.939 | discr (scale 0.25) loss: 1.959\n",
      "................................................................................................................................................................................................9: soundstream total loss: 63.724, soundstream recon loss: 0.040 | discr (scale 1) loss: 1.886 | discr (scale 0.5) loss: 1.894 | discr (scale 0.25) loss: 1.925\n",
      "................................................................................................................................................................................................10: soundstream total loss: 58.275, soundstream recon loss: 0.039 | discr (scale 1) loss: 1.861 | discr (scale 0.5) loss: 1.882 | discr (scale 0.25) loss: 1.914\n",
      "................................................................................................................................................................................................11: soundstream total loss: 58.700, soundstream recon loss: 0.037 | discr (scale 1) loss: 1.835 | discr (scale 0.5) loss: 1.868 | discr (scale 0.25) loss: 1.903\n",
      "................................................................................................................................................................................................12: soundstream total loss: 50.900, soundstream recon loss: 0.031 | discr (scale 1) loss: 1.791 | discr (scale 0.5) loss: 1.832 | discr (scale 0.25) loss: 1.878\n",
      "................................................................................................................................................................................................13: soundstream total loss: 55.509, soundstream recon loss: 0.041 | discr (scale 1) loss: 1.718 | discr (scale 0.5) loss: 1.771 | discr (scale 0.25) loss: 1.831\n",
      "................................................................................................................................................................................................14: soundstream total loss: 59.878, soundstream recon loss: 0.050 | discr (scale 1) loss: 1.707 | discr (scale 0.5) loss: 1.762 | discr (scale 0.25) loss: 1.825\n",
      "................................................................................................................................................................................................15: soundstream total loss: 57.845, soundstream recon loss: 0.039 | discr (scale 1) loss: 1.605 | discr (scale 0.5) loss: 1.702 | discr (scale 0.25) loss: 1.760\n",
      "................................................................................................................................................................................................16: soundstream total loss: 50.208, soundstream recon loss: 0.034 | discr (scale 1) loss: 1.485 | discr (scale 0.5) loss: 1.604 | discr (scale 0.25) loss: 1.685\n",
      "................................................................................................................................................................................................17: soundstream total loss: 55.060, soundstream recon loss: 0.036 | discr (scale 1) loss: 1.448 | discr (scale 0.5) loss: 1.555 | discr (scale 0.25) loss: 1.670\n",
      "................................................................................................................................................................................................18: soundstream total loss: 58.205, soundstream recon loss: 0.041 | discr (scale 1) loss: 1.264 | discr (scale 0.5) loss: 1.425 | discr (scale 0.25) loss: 1.551\n",
      "................................................................................................................................................................................................19: soundstream total loss: 58.078, soundstream recon loss: 0.039 | discr (scale 1) loss: 1.120 | discr (scale 0.5) loss: 1.326 | discr (scale 0.25) loss: 1.488\n",
      "................................................................................................................................................................................................20: soundstream total loss: 58.744, soundstream recon loss: 0.036 | discr (scale 1) loss: 1.045 | discr (scale 0.5) loss: 1.155 | discr (scale 0.25) loss: 1.349\n",
      "************20: saving to results\n",
      "................................................................................................................................................................................................21: soundstream total loss: 59.608, soundstream recon loss: 0.039 | discr (scale 1) loss: 0.787 | discr (scale 0.5) loss: 1.142 | discr (scale 0.25) loss: 1.153\n",
      "................................................................................................................................................................................................22: soundstream total loss: 62.131, soundstream recon loss: 0.039 | discr (scale 1) loss: 0.815 | discr (scale 0.5) loss: 0.973 | discr (scale 0.25) loss: 1.128\n",
      "................................................................................................................................................................................................23: soundstream total loss: 62.386, soundstream recon loss: 0.037 | discr (scale 1) loss: 0.704 | discr (scale 0.5) loss: 0.924 | discr (scale 0.25) loss: 1.070\n",
      "................................................................................................................................................................................................24: soundstream total loss: 67.153, soundstream recon loss: 0.039 | discr (scale 1) loss: 0.708 | discr (scale 0.5) loss: 0.826 | discr (scale 0.25) loss: 0.965\n",
      "................................................................................................................................................................................................25: soundstream total loss: 74.727, soundstream recon loss: 0.047 | discr (scale 1) loss: 0.702 | discr (scale 0.5) loss: 0.767 | discr (scale 0.25) loss: 0.957\n",
      "................................................................................................................................................................................................26: soundstream total loss: 60.341, soundstream recon loss: 0.036 | discr (scale 1) loss: 0.508 | discr (scale 0.5) loss: 0.575 | discr (scale 0.25) loss: 0.683\n",
      "................................................................................................................................................................................................27: soundstream total loss: 69.915, soundstream recon loss: 0.043 | discr (scale 1) loss: 0.619 | discr (scale 0.5) loss: 0.925 | discr (scale 0.25) loss: 0.855\n",
      "................................................................................................................................................................................................28: soundstream total loss: 66.480, soundstream recon loss: 0.042 | discr (scale 1) loss: 0.613 | discr (scale 0.5) loss: 0.918 | discr (scale 0.25) loss: 0.742\n",
      "................................................................................................................................................................................................29: soundstream total loss: 69.597, soundstream recon loss: 0.043 | discr (scale 1) loss: 0.642 | discr (scale 0.5) loss: 0.730 | discr (scale 0.25) loss: 0.852\n",
      "................................................................................................................................................................................................30: soundstream total loss: 64.765, soundstream recon loss: 0.042 | discr (scale 1) loss: 0.519 | discr (scale 0.5) loss: 0.611 | discr (scale 0.25) loss: 0.671\n",
      "................................................................................................................................................................................................31: soundstream total loss: 67.662, soundstream recon loss: 0.040 | discr (scale 1) loss: 0.524 | discr (scale 0.5) loss: 0.566 | discr (scale 0.25) loss: 0.713\n",
      "................................................................................................................................................................................................32: soundstream total loss: 59.977, soundstream recon loss: 0.037 | discr (scale 1) loss: 0.689 | discr (scale 0.5) loss: 0.554 | discr (scale 0.25) loss: 0.588\n",
      "................................................................................................................................................................................................33: soundstream total loss: 62.735, soundstream recon loss: 0.036 | discr (scale 1) loss: 0.732 | discr (scale 0.5) loss: 0.548 | discr (scale 0.25) loss: 0.742\n",
      "................................................................................................................................................................................................34: soundstream total loss: 69.468, soundstream recon loss: 0.043 | discr (scale 1) loss: 0.644 | discr (scale 0.5) loss: 0.582 | discr (scale 0.25) loss: 0.798\n",
      "................................................................................................................................................................................................35: soundstream total loss: 65.488, soundstream recon loss: 0.042 | discr (scale 1) loss: 0.634 | discr (scale 0.5) loss: 0.562 | discr (scale 0.25) loss: 0.652\n",
      "................................................................................................................................................................................................36: soundstream total loss: 69.604, soundstream recon loss: 0.044 | discr (scale 1) loss: 0.596 | discr (scale 0.5) loss: 0.483 | discr (scale 0.25) loss: 0.491\n",
      "................................................................................................................................................................................................37: soundstream total loss: 71.217, soundstream recon loss: 0.042 | discr (scale 1) loss: 0.571 | discr (scale 0.5) loss: 0.487 | discr (scale 0.25) loss: 0.608\n",
      "................................................................................................................................................................................................38: soundstream total loss: 64.914, soundstream recon loss: 0.034 | discr (scale 1) loss: 0.293 | discr (scale 0.5) loss: 0.396 | discr (scale 0.25) loss: 0.535\n",
      "................................................................................................................................................................................................39: soundstream total loss: 67.224, soundstream recon loss: 0.038 | discr (scale 1) loss: 0.485 | discr (scale 0.5) loss: 0.465 | discr (scale 0.25) loss: 0.351\n",
      "................................................................................................................................................................................................40: soundstream total loss: 76.935, soundstream recon loss: 0.040 | discr (scale 1) loss: 0.468 | discr (scale 0.5) loss: 0.727 | discr (scale 0.25) loss: 0.603\n",
      "************40: saving to results\n",
      "................................................................................................................................................................................................41: soundstream total loss: 71.467, soundstream recon loss: 0.045 | discr (scale 1) loss: 0.369 | discr (scale 0.5) loss: 0.614 | discr (scale 0.25) loss: 0.565\n",
      "................................................................................................................................................................................................42: soundstream total loss: 64.511, soundstream recon loss: 0.035 | discr (scale 1) loss: 0.535 | discr (scale 0.5) loss: 0.586 | discr (scale 0.25) loss: 0.519\n",
      "................................................................................................................................................................................................43: soundstream total loss: 69.232, soundstream recon loss: 0.042 | discr (scale 1) loss: 0.462 | discr (scale 0.5) loss: 0.380 | discr (scale 0.25) loss: 0.417\n",
      "................................................................................................................................................................................................44: soundstream total loss: 66.077, soundstream recon loss: 0.038 | discr (scale 1) loss: 0.390 | discr (scale 0.5) loss: 0.515 | discr (scale 0.25) loss: 0.649\n",
      "................................................................................................................................................................................................45: soundstream total loss: 73.125, soundstream recon loss: 0.052 | discr (scale 1) loss: 0.977 | discr (scale 0.5) loss: 0.464 | discr (scale 0.25) loss: 0.447\n",
      "................................................................................................................................................................................................46: soundstream total loss: 62.528, soundstream recon loss: 0.036 | discr (scale 1) loss: 1.034 | discr (scale 0.5) loss: 0.373 | discr (scale 0.25) loss: 0.805\n",
      "................................................................................................................................................................................................47: soundstream total loss: 72.976, soundstream recon loss: 0.047 | discr (scale 1) loss: 0.565 | discr (scale 0.5) loss: 0.339 | discr (scale 0.25) loss: 0.755\n",
      "................................................................................................................................................................................................48: soundstream total loss: 61.547, soundstream recon loss: 0.036 | discr (scale 1) loss: 0.409 | discr (scale 0.5) loss: 0.181 | discr (scale 0.25) loss: 0.532\n",
      "................................................................................................................................................................................................49: soundstream total loss: 71.658, soundstream recon loss: 0.040 | discr (scale 1) loss: 0.491 | discr (scale 0.5) loss: 0.182 | discr (scale 0.25) loss: 0.493\n",
      "................................................................................................................................................................................................50: soundstream total loss: 70.106, soundstream recon loss: 0.042 | discr (scale 1) loss: 0.712 | discr (scale 0.5) loss: 0.213 | discr (scale 0.25) loss: 0.580\n",
      "................................................................................................................................................................................................51: soundstream total loss: 68.217, soundstream recon loss: 0.038 | discr (scale 1) loss: 0.682 | discr (scale 0.5) loss: 1.378 | discr (scale 0.25) loss: 0.409\n",
      "................................................................................................................................................................................................52: soundstream total loss: 74.008, soundstream recon loss: 0.039 | discr (scale 1) loss: 0.472 | discr (scale 0.5) loss: 1.635 | discr (scale 0.25) loss: 0.816\n",
      "................................................................................................................................................................................................53: soundstream total loss: 76.038, soundstream recon loss: 0.047 | discr (scale 1) loss: 0.825 | discr (scale 0.5) loss: 1.505 | discr (scale 0.25) loss: 1.325\n",
      "................................................................................................................................................................................................54: soundstream total loss: 71.501, soundstream recon loss: 0.044 | discr (scale 1) loss: 1.245 | discr (scale 0.5) loss: 0.930 | discr (scale 0.25) loss: 1.083\n",
      "................................................................................................................................................................................................55: soundstream total loss: 75.904, soundstream recon loss: 0.046 | discr (scale 1) loss: 1.007 | discr (scale 0.5) loss: 1.196 | discr (scale 0.25) loss: 0.599\n",
      "................................................................................................................................................................................................56: soundstream total loss: 72.073, soundstream recon loss: 0.051 | discr (scale 1) loss: 0.701 | discr (scale 0.5) loss: 1.485 | discr (scale 0.25) loss: 0.785\n",
      "................................................................................................................................................................................................57: soundstream total loss: 72.584, soundstream recon loss: 0.044 | discr (scale 1) loss: 0.797 | discr (scale 0.5) loss: 1.637 | discr (scale 0.25) loss: 0.820\n",
      "................................................................................................................................................................................................58: soundstream total loss: 73.413, soundstream recon loss: 0.043 | discr (scale 1) loss: 0.741 | discr (scale 0.5) loss: 1.554 | discr (scale 0.25) loss: 0.757\n",
      "................................................................................................................................................................................................59: soundstream total loss: 80.326, soundstream recon loss: 0.049 | discr (scale 1) loss: 0.896 | discr (scale 0.5) loss: 1.656 | discr (scale 0.25) loss: 0.743\n",
      "................................................................................................................................................................................................60: soundstream total loss: 75.505, soundstream recon loss: 0.045 | discr (scale 1) loss: 0.805 | discr (scale 0.5) loss: 1.388 | discr (scale 0.25) loss: 0.597\n",
      "************60: saving to results\n",
      "................................................................................................................................................................................................61: soundstream total loss: 66.397, soundstream recon loss: 0.034 | discr (scale 1) loss: 0.843 | discr (scale 0.5) loss: 1.360 | discr (scale 0.25) loss: 0.561\n",
      "................................................................................................................................................................................................62: soundstream total loss: 75.656, soundstream recon loss: 0.047 | discr (scale 1) loss: 0.792 | discr (scale 0.5) loss: 0.766 | discr (scale 0.25) loss: 1.426\n",
      "................................................................................................................................................................................................63: soundstream total loss: 69.843, soundstream recon loss: 0.035 | discr (scale 1) loss: 1.853 | discr (scale 0.5) loss: 1.014 | discr (scale 0.25) loss: 2.490\n",
      "................................................................................................................................................................................................64: soundstream total loss: 82.925, soundstream recon loss: 0.050 | discr (scale 1) loss: 2.510 | discr (scale 0.5) loss: 1.701 | discr (scale 0.25) loss: 2.704\n",
      "............................................................................................................................................................................................."
     ]
    }
   ],
   "source": [
    "soundstream = SoundStream(\n",
    "    codebook_size = 1024,\n",
    "    rq_num_quantizers = 8,\n",
    ")\n",
    "\n",
    "trainer = SoundStreamTrainer(\n",
    "    soundstream,\n",
    "    #folder = dataset_folder,\n",
    "    #train_dataloader=dl_train,\n",
    "    #val_dataloader=dl_val,\n",
    "    train_dataset=dst,\n",
    "    val_dataset=dsv,\n",
    "    #lr = 0.001,\n",
    "    batch_size = 12,\n",
    "    grad_accum_every = 8,         # effective batch size of 32\n",
    "    data_max_length = 320 * 32,\n",
    "    save_results_every = 20,\n",
    "    save_model_every = 100,\n",
    "    num_train_steps = 2000,\n",
    ").cuda()\n",
    "# NOTE: I changed num_train_steps to 9 (aka 8 + 1) from 10000 to make things go faster for demo purposes\n",
    "# adjusting save_*_every variables for the same reason\n",
    "\n",
    "trainer.train()"
   ]
  },
  {
   "cell_type": "markdown",
   "metadata": {
    "id": "QoHgkgA3XKXH"
   },
   "source": [
    "## Inference"
   ]
  },
  {
   "cell_type": "code",
   "execution_count": null,
   "metadata": {
    "colab": {
     "base_uri": "https://localhost:8080/"
    },
    "id": "rzghrux5WinW",
    "outputId": "9dd39f7f-0046-4a5f-826e-a442345987af"
   },
   "outputs": [],
   "source": [
    "# Everything together\n"
   ]
  },
  {
   "cell_type": "code",
   "execution_count": null,
   "metadata": {
    "id": "4rQPHTSRngEr"
   },
   "outputs": [],
   "source": [
    "output_path = \"out.wav\"\n",
    "sample_rate = 44100\n",
    "torchaudio.save(output_path, generated_wav.cpu(), sample_rate)"
   ]
  },
  {
   "cell_type": "code",
   "execution_count": null,
   "metadata": {
    "id": "is9wLY_ncDYK"
   },
   "outputs": [],
   "source": []
  }
 ],
 "metadata": {
  "accelerator": "GPU",
  "colab": {
   "provenance": []
  },
  "gpuClass": "standard",
  "kernelspec": {
   "display_name": "Python 3 (ipykernel)",
   "language": "python",
   "name": "python3"
  },
  "language_info": {
   "codemirror_mode": {
    "name": "ipython",
    "version": 3
   },
   "file_extension": ".py",
   "mimetype": "text/x-python",
   "name": "python",
   "nbconvert_exporter": "python",
   "pygments_lexer": "ipython3",
   "version": "3.9.16"
  }
 },
 "nbformat": 4,
 "nbformat_minor": 4
}
